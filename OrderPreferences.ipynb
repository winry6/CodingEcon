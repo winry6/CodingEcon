{
 "cells": [
  {
   "cell_type": "code",
   "execution_count": 2,
   "id": "f0b0afc5-74b9-4b65-8d84-a023b5044311",
   "metadata": {},
   "outputs": [],
   "source": [
    "import itertools\n",
    "import random\n",
    "from collections import defaultdict, deque\n",
    "def get_items():\n",
    "    # Ask the user if they have a list of items\n",
    "    has_list = input(\"Do you have a list of items? (yes/no): \").strip().lower()\n",
    "\n",
    "    if has_list == \"yes\":\n",
    "        # If yes, ask for the list of items\n",
    "        items_input = input(\"Please enter your items separated by commas (e.g., apple, pear, peach): \").strip()\n",
    "        items = [item.strip() for item in items_input.split(',')]\n",
    "    elif has_list == \"no\":\n",
    "        # If no, ask for the number of items and generate names\n",
    "        num_items = int(input(\"How many types of items do you want to compare? \"))\n",
    "        items = [f\"goods {i}\" for i in range(1, num_items + 1)]\n",
    "    else:\n",
    "        print(\"Invalid input. Please enter 'yes' or 'no'.\")\n",
    "        return get_items()  # Recursively call the function until valid input is given\n",
    "    \n",
    "    return items\n",
    "\n"
   ]
  },
  {
   "cell_type": "code",
   "execution_count": 3,
   "id": "7925a091-0f36-474c-bcbc-e877f299b7c0",
   "metadata": {},
   "outputs": [],
   "source": [
    "# Function to initialize the preference list\n",
    "def initialize_preferences(items):\n",
    "    all_pairs = list(itertools.combinations(items, 2))\n",
    "    preferences = {pair: 0 for pair in all_pairs}\n",
    "    return preferences"
   ]
  },
  {
   "cell_type": "code",
   "execution_count": 4,
   "id": "4de0b71f-51d2-473c-b19a-5e39448cc17a",
   "metadata": {},
   "outputs": [],
   "source": [
    "# Function to randomly ask for user preferences\n",
    "def collect_random_preferences(preferences):\n",
    "    total_pairs = len(preferences)\n",
    "    rounds = min(total_pairs, 8)  # Calculate n as one-third of the total pairs\n",
    "    pairs_to_ask = random.sample(list(preferences.keys()), rounds)\n",
    "\n",
    "    for pair in pairs_to_ask:\n",
    "        item1, item2 = pair\n",
    "        preference = input(f\"Do you prefer {item1} over {item2}? Enter 1 for {item1} > {item2}, -1 for {item2} > {item1}, or 0 for indifference: \").strip()\n",
    "\n",
    "        # Update the preference\n",
    "        if preference == '1':\n",
    "            preferences[(item1, item2)] = 1\n",
    "        elif preference == '-1':\n",
    "            preferences[(item1, item2)] = -1\n",
    "        elif preference == '0':\n",
    "            preferences[(item1, item2)] = 0\n",
    "        else:\n",
    "            print(\"Invalid input. Please enter '1', '-1', or '0'.\")\n",
    "            return collect_random_preferences(preferences)  # Recursively call until valid input is given\n",
    "\n",
    "    return preferences"
   ]
  },
  {
   "cell_type": "code",
   "execution_count": 5,
   "id": "b16afb2d-79ea-46d1-a7ab-2674c813b75b",
   "metadata": {},
   "outputs": [],
   "source": [
    "# Function to check for transitivity and rank items if transitive\n",
    "def check_transitivity_and_rank(preferences, items):\n",
    "    pref_dict = {pair: value for pair, value in preferences.items() if value != 0}\n",
    "\n",
    "    for (a, b), value1 in pref_dict.items():\n",
    "        for (c, d), value2 in pref_dict.items():\n",
    "            if b == c:\n",
    "                if value1 == 1 and value2 == 1:  # a > b and b > d, check a > d\n",
    "                    if pref_dict.get((a, d), None) != 1:\n",
    "                        return False, (a, b, d)\n",
    "                elif value1 == 0 or value2 == 0:  # Handle indifference\n",
    "                    if pref_dict.get((a, d), None) not in [1, 0]:  # Expect either preference or indifference\n",
    "                        return False, (a, b, d)\n",
    "\n",
    "    # If transitive, rank items using a topological sort\n",
    "    return True, rank_items(pref_dict, items)"
   ]
  },
  {
   "cell_type": "code",
   "execution_count": 6,
   "id": "8374a635-bc40-4a67-ab74-f04d838c5c69",
   "metadata": {},
   "outputs": [],
   "source": [
    "# Function to rank items using topological sorting\n",
    "def rank_items(pref_dict, items):\n",
    "    # Create a graph for topological sorting\n",
    "    graph = defaultdict(list)\n",
    "    in_degree = {item: 0 for item in items}\n",
    "\n",
    "    # Build the graph from preferences\n",
    "    for (a, b), value in pref_dict.items():\n",
    "        if value == 1:\n",
    "            graph[a].append(b)\n",
    "            in_degree[b] += 1\n",
    "\n",
    "    # Topological sort using Kahn's algorithm\n",
    "    queue = deque([item for item in items if in_degree[item] == 0])\n",
    "    ranking = []\n",
    "\n",
    "    while queue:\n",
    "        item = queue.popleft()\n",
    "        ranking.append(item)\n",
    "        for neighbor in graph[item]:\n",
    "            in_degree[neighbor] -= 1\n",
    "            if in_degree[neighbor] == 0:\n",
    "                queue.append(neighbor)\n",
    "\n",
    "    return ranking"
   ]
  },
  {
   "cell_type": "code",
   "execution_count": 7,
   "id": "aa0df72e-8c1c-4926-9f79-1e76f8b649d0",
   "metadata": {},
   "outputs": [],
   "source": [
    "def main():\n",
    "    # Get the list of items\n",
    "    items = get_items()\n",
    "\n",
    "    # Initialize preferences with indifference (0)\n",
    "    preferences = initialize_preferences(items)\n",
    "\n",
    "    # Collect random preferences\n",
    "    preferences = collect_random_preferences(preferences)\n",
    "\n",
    "    # Print out the collected preferences\n",
    "    print(\"Collected preferences:\")\n",
    "    for pair, value in preferences.items():\n",
    "        if value == 1:\n",
    "            relation = \">\"\n",
    "        elif value == -1:\n",
    "            relation = \"<\"\n",
    "        else:\n",
    "            relation = \"==\"\n",
    "        print(f\"{pair[0]} {relation} {pair[1]}\")\n",
    "\n",
    "    # Check for completeness\n",
    "    #check_completeness(preferences)\n",
    "\n",
    "    # Check for transitivity and rank items if transitive\n",
    "    is_transitive, result = check_transitivity_and_rank(preferences, items)\n",
    "    if is_transitive:\n",
    "        print(\"The preferences are transitive.\")\n",
    "        print(\"Ranked items:\")\n",
    "        print(\" > \".join(result))\n",
    "    else:\n",
    "        print(\"The preferences are not transitive.\")\n",
    "        conflict = result\n",
    "        print(f\"Conflicting preferences found: prefer {conflict[0]} over {conflict[1]} and {conflict[1]} over {conflict[2]}, but no preference for {conflict[0]} over {conflict[2]}.\")\n"
   ]
  },
  {
   "cell_type": "code",
   "execution_count": 8,
   "id": "ff5a24f7-562f-4253-affb-365159b617ae",
   "metadata": {},
   "outputs": [
    {
     "name": "stdin",
     "output_type": "stream",
     "text": [
      "Do you have a list of items? (yes/no):  no\n",
      "How many types of items do you want to compare?  4\n",
      "Do you prefer goods 1 over goods 4? Enter 1 for goods 1 > goods 4, -1 for goods 4 > goods 1, or 0 for indifference:  1\n",
      "Do you prefer goods 1 over goods 3? Enter 1 for goods 1 > goods 3, -1 for goods 3 > goods 1, or 0 for indifference:  -1\n",
      "Do you prefer goods 3 over goods 4? Enter 1 for goods 3 > goods 4, -1 for goods 4 > goods 3, or 0 for indifference:  1\n",
      "Do you prefer goods 1 over goods 2? Enter 1 for goods 1 > goods 2, -1 for goods 2 > goods 1, or 0 for indifference:  -1\n",
      "Do you prefer goods 2 over goods 3? Enter 1 for goods 2 > goods 3, -1 for goods 3 > goods 2, or 0 for indifference:  -1\n",
      "Do you prefer goods 2 over goods 4? Enter 1 for goods 2 > goods 4, -1 for goods 4 > goods 2, or 0 for indifference:  -1\n"
     ]
    },
    {
     "name": "stdout",
     "output_type": "stream",
     "text": [
      "Collected preferences:\n",
      "goods 1 < goods 2\n",
      "goods 1 < goods 3\n",
      "goods 1 > goods 4\n",
      "goods 2 < goods 3\n",
      "goods 2 < goods 4\n",
      "goods 3 > goods 4\n",
      "The preferences are transitive.\n",
      "Ranked items:\n",
      "goods 1 > goods 2 > goods 3 > goods 4\n"
     ]
    }
   ],
   "source": [
    "# Run the main program\n",
    "if __name__ == \"__main__\":\n",
    "    main()"
   ]
  }
 ],
 "metadata": {
  "kernelspec": {
   "display_name": "Python 3 (ipykernel)",
   "language": "python",
   "name": "python3"
  },
  "language_info": {
   "codemirror_mode": {
    "name": "ipython",
    "version": 3
   },
   "file_extension": ".py",
   "mimetype": "text/x-python",
   "name": "python",
   "nbconvert_exporter": "python",
   "pygments_lexer": "ipython3",
   "version": "3.12.4"
  }
 },
 "nbformat": 4,
 "nbformat_minor": 5
}
